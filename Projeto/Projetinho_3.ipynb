{
  "cells": [
    {
      "cell_type": "code",
      "execution_count": 27,
      "metadata": {
        "id": "9ypFfQMIAHFt"
      },
      "outputs": [],
      "source": [
        "# importação das bibliotecas\n",
        "import matplotlib.pyplot as plt\n",
        "from IPython.display import Audio, display\n",
        "import numpy as np\n",
        "from scipy.io import wavfile\n",
        "import os\n",
        "import librosa"
      ]
    },
    {
      "cell_type": "code",
      "execution_count": 28,
      "metadata": {
        "id": "aqfCn5G9AdwX",
        "colab": {
          "base_uri": "https://localhost:8080/"
        },
        "outputId": "67f1244d-3b3d-414b-da54-22db1950bf87"
      },
      "outputs": [
        {
          "output_type": "stream",
          "name": "stdout",
          "text": [
            "Downloading...\n",
            "From (original): https://drive.google.com/uc?id=1ApoJJlIyrg8je9nI79Wa1lDf8mz5ZVsC\n",
            "From (redirected): https://drive.google.com/uc?id=1ApoJJlIyrg8je9nI79Wa1lDf8mz5ZVsC&confirm=t&uuid=ad8afc76-cac7-4cfb-babf-e31f761b565e\n",
            "To: /content/coefs.zip\n",
            "100% 62.2M/62.2M [00:00<00:00, 109MB/s]\n"
          ]
        }
      ],
      "source": [
        "# download dos coeficientes (.zip)\n",
        "!gdown --fuzzy https://drive.google.com/file/d/1ApoJJlIyrg8je9nI79Wa1lDf8mz5ZVsC/view?usp=drive_link"
      ]
    },
    {
      "cell_type": "code",
      "execution_count": 29,
      "metadata": {
        "id": "gpfoe9DDAgxK",
        "colab": {
          "base_uri": "https://localhost:8080/"
        },
        "outputId": "60d98a3a-021a-4170-a039-5ac21f25f91d"
      },
      "outputs": [
        {
          "output_type": "stream",
          "name": "stdout",
          "text": [
            "replace output/reggae/reggae.00046.npy? [y]es, [n]o, [A]ll, [N]one, [r]ename: A\n"
          ]
        }
      ],
      "source": [
        "# extração dos arquivos de coeficientes\n",
        "!unzip -q /content/coefs.zip"
      ]
    },
    {
      "cell_type": "code",
      "execution_count": 30,
      "metadata": {
        "id": "eYN2Sym2BNgs",
        "colab": {
          "base_uri": "https://localhost:8080/"
        },
        "outputId": "3e371c56-17a9-4b95-f319-1a187cbae870"
      },
      "outputs": [
        {
          "output_type": "stream",
          "name": "stdout",
          "text": [
            "Downloading...\n",
            "From: https://drive.google.com/uc?id=1P7KHCiXFwcaycobSqEyQ4bWlyW9Irw3D\n",
            "To: /content/03.-03.-Trilha-do-Sol-www.musicasparabaixar.org.wav\n",
            "\r  0% 0.00/397k [00:00<?, ?B/s]\r100% 397k/397k [00:00<00:00, 12.5MB/s]\n"
          ]
        }
      ],
      "source": [
        "# download da amostra\n",
        "!gdown --fuzzy https://drive.google.com/file/d/1P7KHCiXFwcaycobSqEyQ4bWlyW9Irw3D/view?usp=sharing"
      ]
    },
    {
      "cell_type": "code",
      "source": [
        "# abre amostra e calcula coeficientes\n",
        "input_fname = \"/content/Country.wav\"\n",
        "#input_fname = \"/content/Linkin-Park-NUMB_1.wav\"\n",
        "#input_fname = \"/content/Audio.wav\"\n",
        "inp_rate, inp_data = wavfile.read(input_fname)\n",
        "inp_mfccs = librosa.feature.mfcc(y=inp_data.astype(np.float32), sr=inp_rate, n_mfcc=13)\n",
        "#print(inp_mfccs.shape)\n",
        "\n",
        "# os coeficientes estão em uma matriz de 13 linhas e 'n_col' colunas\n",
        "n_col = inp_mfccs.shape[1]\n",
        "\n",
        "#vamos criar uma janela (matriz com as 13 linhaas e o primeiro 1/9 das colunas - 1s de áudio)\n",
        "inp_wind = inp_mfccs[:, 0:n_col//9]\n",
        "inp_wind.shape\n",
        "\n",
        "comp = {}\n",
        "estilos = sorted(os.listdir('output'))\n",
        "print(\"Gêneros: \" + \", \".join(estilos))\n",
        "\n",
        "for estilo in estilos:\n",
        "  #if(estilo == chave):\n",
        "  comp[estilo] = []\n",
        "  fnames = sorted(os.listdir('output/'+estilo))\n",
        "\n",
        "  for f in fnames:\n",
        "    # monta o caminho completo e imprime o nome do arquivo\n",
        "    fn = os.path.join('output/'+estilo, f)\n",
        "    coef = np.load(fn)\n",
        "    isz, csz = inp_wind.shape[1], coef.shape[1]\n",
        "\n",
        "    dif = [np.sum(np.abs(inp_wind - coef[:, i: i+isz])) for i in range(0, csz-isz)]\n",
        "    min_dif = min(dif)\n",
        "    comp[estilo].append(min_dif)\n",
        "\n",
        "\n",
        "#for estilo, valores in comp.items():\n",
        "    #print(f\"{estilo}: {valores}\")\n",
        "\n",
        "total_differences = {}\n",
        "\n",
        "# Calcula a soma das diferenças para cada estilo e armazena no dicionário\n",
        "for estilo, valores in comp.items():\n",
        "    total_differences[estilo] = sum(valores)\n",
        "\n",
        "#print(total_differences)\n",
        "\n",
        "# Encontra o gênero com a menor soma diff\n",
        "min_soma = min(total_differences.values())\n",
        "min_soma_genero = min(total_differences, key=total_differences.get)\n",
        "\n",
        "# Imprime os resultados\n",
        "print(f\"\\nGênero com menor difereça de soma: {min_soma_genero}. Com uma soma de: {min_soma}\")\n"
      ],
      "metadata": {
        "colab": {
          "base_uri": "https://localhost:8080/"
        },
        "id": "ixT7MqxrqQjq",
        "outputId": "5f7eb728-f3f6-4d10-cafb-80b94099a9dd",
        "collapsed": true
      },
      "execution_count": 110,
      "outputs": [
        {
          "output_type": "stream",
          "name": "stdout",
          "text": [
            "Gêneros: blues, classical, country, disco, hiphop, jazz, metal, pop, reggae, rock\n",
            "\n",
            "Gênero com menor difereça de soma: pop. Com uma soma de: 1044018.8193359375\n"
          ]
        }
      ]
    }
  ],
  "metadata": {
    "colab": {
      "provenance": []
    },
    "kernelspec": {
      "display_name": "Python 3",
      "name": "python3"
    },
    "language_info": {
      "name": "python"
    }
  },
  "nbformat": 4,
  "nbformat_minor": 0
}